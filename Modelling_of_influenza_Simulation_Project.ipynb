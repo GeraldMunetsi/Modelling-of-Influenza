{
  "nbformat": 4,
  "nbformat_minor": 0,
  "metadata": {
    "colab": {
      "provenance": []
    },
    "kernelspec": {
      "name": "python3",
      "display_name": "Python 3"
    },
    "language_info": {
      "name": "python"
    }
  },
  "cells": [
    {
      "cell_type": "code",
      "execution_count": null,
      "metadata": {
        "id": "8Foa19DlOz0V"
      },
      "outputs": [],
      "source": [
        "import numpy as np\n",
        "import matplotlib.pyplot as plt\n",
        "from scipy.integrate import solve_ivp\n",
        "\n",
        "# PARAMETERS\n",
        "N = 1000  # Total population\n",
        "I0 = 1     # Initial number of infected individuals\n",
        "E0 = 0     # Initial number of exposed individuals\n",
        "R0 = 0     # Initial number of recovered individuals\n",
        "S0 = N - I0 - E0 - R0  # Initial number of susceptible individuals\n",
        "\n",
        "# RATES\n",
        "beta = 0.3   # Transmission rate\n",
        "sigma = 1/6   # Incubation rate\n",
        "gamma = 1/10  # Recovery rate\n",
        "\n",
        "# TIME POINTS(days)\n",
        "t = np.linspace(0, 120, 120)\n",
        "\n",
        "# SEIR MODEL\n",
        "def deriv(t, y, N, beta, sigma, gamma):\n",
        "    S, E, I, R = y\n",
        "    dSdt = -beta * I * S / N\n",
        "    dEdt = beta * I * S / N - sigma * E\n",
        "    dIdt = sigma * E - gamma * I\n",
        "    dRdt = gamma * I\n",
        "    return dSdt, dEdt, dIdt, dRdt\n",
        "\n",
        "# INITIAL CONDITIONS  VECTOR\n",
        "y0 = S0, E0, I0, R0\n",
        "\n",
        "# SOLVING THE DIFFERENTIAL EQUATIONS\n",
        "sol = solve_ivp(deriv, [0, 120], y0, args=(N, beta, sigma, gamma), t_eval=t)\n",
        "\n",
        "# RESULTS\n",
        "S, E, I, R = sol.y\n",
        "\n",
        "# CALCULATING THE BASIC REPRODUCTION NUMBER\n",
        "R0 = beta / gamma\n",
        "print(f\"Basic Reproduction Number (R0): {R0}\")\n",
        "\n",
        "# PEAK INFECTIONS AND CUMULATIVE INFECTIONS\n",
        "peak_infections = max(I)\n",
        "total_infections = sum(I)\n",
        "\n",
        "print(f\"Peak Infections: {peak_infections}\")\n",
        "print(f\"Total Infections: {total_infections}\")\n",
        "\n",
        "# PLOTTING THE DATA\n",
        "plt.figure(figsize=(10, 5))\n",
        "plt.plot(t, S, 'b', label='Susceptible')\n",
        "plt.plot(t, E, 'y', label='Exposed')\n",
        "plt.plot(t, I, 'r', label='Infected')\n",
        "plt.plot(t, R, 'g', label='Recovered')\n",
        "plt.title(\"SEIR Model Dynamics for Influenza\")\n",
        "plt.xlabel(\"Time (days)\")\n",
        "plt.ylabel(\"Population\")\n",
        "plt.legend()\n",
        "plt.grid()\n",
        "plt.show()\n",
        "\n"
      ]
    }
  ]
}